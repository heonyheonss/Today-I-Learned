{
 "cells": [
  {
   "cell_type": "code",
   "id": "initial_id",
   "metadata": {
    "collapsed": true,
    "ExecuteTime": {
     "end_time": "2025-09-02T12:37:38.677199Z",
     "start_time": "2025-09-02T12:37:38.622100Z"
    }
   },
   "source": [
    "import yaml\n",
    "import pandas as pd\n",
    "\n",
    "# dataset 불러오기\n",
    "with open(\"config/default.yaml\", \"r\", encoding=\"utf-8\") as file:\n",
    "    config = yaml.safe_load(file)\n",
    "    train_paths = config[\"data\"][\"train_path\"]\n",
    "    supplement_paths = config['data']['supplement_path']\n",
    "\n",
    "dfs = [pd.read_csv(p) for p in supplement_paths]\n",
    "df = pd.read_csv(train_paths)\n",
    "\n",
    "# 불러온 데이터프레임 확인 (선택 사항)\n",
    "# for i, df in enumerate(dfs):\n",
    "#    print(f\"DataFrame {i+1} loaded with {len(df)} rows.\")\n",
    "\n",
    "# 만약 하나의 데이터프레임으로 합치고 싶다면\n",
    "combined_df = pd.concat(dfs, ignore_index=True)\n",
    "combined_df = pd.concat([df, combined_df], ignore_index=True)\n",
    "print(\"\\nCombined DataFrame head:\")\n",
    "print(combined_df.info())"
   ],
   "outputs": [
    {
     "name": "stdout",
     "output_type": "stream",
     "text": [
      "\n",
      "Combined DataFrame head:\n",
      "<class 'pandas.core.frame.DataFrame'>\n",
      "RangeIndex: 16963 entries, 0 to 16962\n",
      "Data columns (total 7 columns):\n",
      " #   Column   Non-Null Count  Dtype  \n",
      "---  ------   --------------  -----  \n",
      " 0   id       7973 non-null   float64\n",
      " 1   SMILES   16963 non-null  object \n",
      " 2   Tg       557 non-null    float64\n",
      " 3   FFV      7892 non-null   float64\n",
      " 4   Tc       1611 non-null   float64\n",
      " 5   Density  613 non-null    float64\n",
      " 6   Rg       614 non-null    float64\n",
      "dtypes: float64(6), object(1)\n",
      "memory usage: 927.8+ KB\n",
      "None\n"
     ]
    }
   ],
   "execution_count": 44
  },
  {
   "metadata": {
    "ExecuteTime": {
     "end_time": "2025-09-02T12:40:12.061590Z",
     "start_time": "2025-09-02T12:40:02.323307Z"
    }
   },
   "cell_type": "code",
   "source": [
    "from rdkit import Chem\n",
    "\n",
    "def canonicalize_smiles(smiles):\n",
    "    try:\n",
    "        mol = Chem.MolFromSmiles(smiles)\n",
    "        if mol is not None:\n",
    "            return Chem.MolToSmiles(mol, canonical=True)\n",
    "        else:\n",
    "            return None\n",
    "    except:\n",
    "        return None\n",
    "\n",
    "combined_df['canonical_smiles'] = combined_df['SMILES'].apply(canonicalize_smiles)\n",
    "combined_df.dropna(subset=['canonical_smiles'], inplace=True)\n",
    "\n",
    "# 3. 데이터가 많은 행을 우선순위로 두기 위한 정렬 (이전과 동일)\n",
    "combined_df['non_na_count'] = combined_df.notna().sum(axis=1)\n",
    "# non_na_count가 높은 순으로 정렬. 이래야 'first'를 쓸 때 데이터가 많은 행이 선택됨\n",
    "combined_df.sort_values('non_na_count', ascending=False, inplace=True)\n",
    "\n",
    "\n",
    "# 4. 그룹별 집계(Aggregation) 로직 정의 및 실행\n",
    "#   - Tc: 평균(mean)을 계산\n",
    "#   - 나머지 모든 열: 첫 번째 값(first)을 선택 (3번에서 정렬했으므로 데이터가 가장 많은 행의 값이 됨)\n",
    "\n",
    "# 집계 규칙을 담을 딕셔너리 생성\n",
    "agg_rules = {}\n",
    "for col in combined_df.columns:\n",
    "    if col not in ['canonical_smiles', 'non_na_count']: # 작업용 열은 제외\n",
    "        if col == 'Tc':\n",
    "            agg_rules[col] = 'mean' # Tc는 평균값으로\n",
    "        else:\n",
    "            agg_rules[col] = 'first' # 나머지는 첫번째 값으로\n",
    "\n",
    "# groupby와 agg를 이용해 새로운 데이터프레임 생성\n",
    "df_agg = combined_df.groupby('canonical_smiles').agg(agg_rules).reset_index()\n",
    "\n",
    "\n",
    "# 5. 최종 결과 확인\n",
    "# 컬럼 순서를 원본과 유사하게 재정렬\n",
    "final_cols = ['SMILES'] + [col for col in combined_df.columns if col not in ['SMILES', 'canonical_smiles', 'non_na_count']]\n",
    "df_final = df_agg.rename(columns={'canonical_smiles': 'SMILES_canonical'})[final_cols]\n",
    "\n",
    "\n",
    "print(\"===== 중복 처리 후 최종 데이터프레임 =====\")\n",
    "print(df_final.info())"
   ],
   "id": "6f70d1777437e050",
   "outputs": [
    {
     "name": "stdout",
     "output_type": "stream",
     "text": [
      "===== 중복 처리 후 최종 데이터프레임 =====\n",
      "<class 'pandas.core.frame.DataFrame'>\n",
      "RangeIndex: 10343 entries, 0 to 10342\n",
      "Data columns (total 7 columns):\n",
      " #   Column   Non-Null Count  Dtype  \n",
      "---  ------   --------------  -----  \n",
      " 0   SMILES   10343 non-null  object \n",
      " 1   id       7973 non-null   float64\n",
      " 2   Tg       557 non-null    float64\n",
      " 3   FFV      7892 non-null   float64\n",
      " 4   Tc       866 non-null    float64\n",
      " 5   Density  613 non-null    float64\n",
      " 6   Rg       614 non-null    float64\n",
      "dtypes: float64(6), object(1)\n",
      "memory usage: 565.8+ KB\n",
      "None\n"
     ]
    }
   ],
   "execution_count": 46
  },
  {
   "metadata": {},
   "cell_type": "code",
   "source": [
    "import numpy as np\n",
    "import matplotlib.pyplot as plt\n",
    "import seaborn as sns\n",
    "\n",
    "# 분석할 물성치 컬럼 리스트\n",
    "properties = [\"Tg\", \"FFV\", \"Tc\", \"Density\", \"Rg\"]\n",
    "\n",
    "# seaborn 스타일 적용으로 더 나은 시각화 품질 확보\n",
    "sns.set_style(\"whitegrid\")\n",
    "\n",
    "# 각 속성에 대해 히스토그램 그리기\n",
    "for prop in properties:\n",
    "    plt.figure(figsize=(8, 5)) # 플롯 사이즈 지정\n",
    "\n",
    "    # 해당 컬럼에서 결측치(NaN)를 제외하고 데이터 선택\n",
    "    data_to_plot = df_final[prop].dropna()\n",
    "\n",
    "    # 히스토그램 생성\n",
    "    sns.histplot(data_to_plot, kde=True, bins=30) # kde=True로 밀도 플롯 추가\n",
    "\n",
    "    # 그래프 제목 및 라벨 설정\n",
    "    plt.title(f'Histogram of {prop}', fontsize=15)\n",
    "    plt.xlabel(prop, fontsize=12)\n",
    "    plt.ylabel('Frequency', fontsize=12)\n",
    "\n",
    "    # 그래프 출력\n",
    "    plt.show()"
   ],
   "id": "8a9778d1274c3587",
   "outputs": [],
   "execution_count": null
  },
  {
   "metadata": {},
   "cell_type": "code",
   "source": [
    "# 각 속성에 대해 상자 그림 그리기\n",
    "for prop in properties:\n",
    "    plt.figure(figsize=(6, 6)) # 플롯 사이즈 지정\n",
    "\n",
    "    # 상자 그림 생성\n",
    "    sns.boxplot(y=df[prop])\n",
    "\n",
    "    # 그래프 제목 및 라벨 설정\n",
    "    plt.title(f'Box Plot of {prop}', fontsize=15)\n",
    "    plt.ylabel(prop, fontsize=12)\n",
    "\n",
    "    # 그래프 출력\n",
    "    plt.show()"
   ],
   "id": "39a1468bc4f9fc0b",
   "outputs": [],
   "execution_count": null
  },
  {
   "metadata": {},
   "cell_type": "code",
   "outputs": [],
   "execution_count": null,
   "source": "",
   "id": "f0c65f0eb6b93e37"
  }
 ],
 "metadata": {
  "kernelspec": {
   "display_name": "Python 3",
   "language": "python",
   "name": "python3"
  },
  "language_info": {
   "codemirror_mode": {
    "name": "ipython",
    "version": 2
   },
   "file_extension": ".py",
   "mimetype": "text/x-python",
   "name": "python",
   "nbconvert_exporter": "python",
   "pygments_lexer": "ipython2",
   "version": "2.7.6"
  }
 },
 "nbformat": 4,
 "nbformat_minor": 5
}
